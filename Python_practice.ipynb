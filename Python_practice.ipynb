{
  "nbformat": 4,
  "nbformat_minor": 0,
  "metadata": {
    "colab": {
      "name": "Python practice.ipynb",
      "provenance": [],
      "collapsed_sections": [],
      "authorship_tag": "ABX9TyN/4UksakBNUqRREyV+omNh",
      "include_colab_link": true
    },
    "kernelspec": {
      "name": "python3",
      "display_name": "Python 3"
    },
    "language_info": {
      "name": "python"
    }
  },
  "cells": [
    {
      "cell_type": "markdown",
      "metadata": {
        "id": "view-in-github",
        "colab_type": "text"
      },
      "source": [
        "<a href=\"https://colab.research.google.com/github/ChatMadhu/Python/blob/main/Python_practice.ipynb\" target=\"_parent\"><img src=\"https://colab.research.google.com/assets/colab-badge.svg\" alt=\"Open In Colab\"/></a>"
      ]
    },
    {
      "cell_type": "markdown",
      "source": [
        "If condition"
      ],
      "metadata": {
        "id": "yRcDE_zqdqYy"
      }
    },
    {
      "cell_type": "code",
      "source": [
        "is_cold = True\n",
        "is_=hot = False\n",
        "\n",
        "if is_cold:\n",
        "  print(\"Wear warm cloths\")\n",
        "elif is_hot:\n",
        "  print(\"drink plenty of water\")\n",
        "else:\n",
        "  print(\"It's lovely day\")"
      ],
      "metadata": {
        "id": "zWuk2ktJWn1e",
        "colab": {
          "base_uri": "https://localhost:8080/"
        },
        "outputId": "c2117a31-d3b4-42c7-9468-67e8b19cb850"
      },
      "execution_count": 1,
      "outputs": [
        {
          "output_type": "stream",
          "name": "stdout",
          "text": [
            "Wear warm cloths\n"
          ]
        }
      ]
    },
    {
      "cell_type": "code",
      "source": [
        "price = 1000000\n",
        "buyer_has_good_credit = True\n",
        "\n",
        "if buyer_has_good_credit:\n",
        "  put_down= price*0.1\n",
        "else:\n",
        "  put_down = price*0.2\n",
        "down = f'Down payment is: {put_down}$'\n",
        "print(down)"
      ],
      "metadata": {
        "colab": {
          "base_uri": "https://localhost:8080/"
        },
        "id": "-nxZo2O7hAhb",
        "outputId": "92feed60-e0d7-487c-fe05-c370b0335d7a"
      },
      "execution_count": 8,
      "outputs": [
        {
          "output_type": "stream",
          "name": "stdout",
          "text": [
            "Down payment is: 100000.0$\n"
          ]
        }
      ]
    },
    {
      "cell_type": "code",
      "source": [
        "num=input(\"Enter a number\")\n",
        "num= int(num)"
      ],
      "metadata": {
        "colab": {
          "base_uri": "https://localhost:8080/"
        },
        "id": "HvOCbs8winwa",
        "outputId": "1041dd4c-7fc8-42d0-a2ce-12757b54ee1e"
      },
      "execution_count": 10,
      "outputs": [
        {
          "name": "stdout",
          "output_type": "stream",
          "text": [
            "Enter a number4\n"
          ]
        }
      ]
    },
    {
      "cell_type": "code",
      "source": [
        "num=input(\"Enter a number: \")\n",
        "num= int(num)\n",
        "if num%2==0:\n",
        "  print(\"number is even\")\n",
        "else:\n",
        "  print(\"number is odd\")"
      ],
      "metadata": {
        "colab": {
          "base_uri": "https://localhost:8080/"
        },
        "id": "wR1jk-4ykRbJ",
        "outputId": "0c9b4605-d2e8-4982-95d5-e783b943449b"
      },
      "execution_count": 13,
      "outputs": [
        {
          "output_type": "stream",
          "name": "stdout",
          "text": [
            "Enter a number: 6\n",
            "number is even\n"
          ]
        }
      ]
    },
    {
      "cell_type": "markdown",
      "source": [
        "classes"
      ],
      "metadata": {
        "id": "wNDeP4My9B8J"
      }
    },
    {
      "cell_type": "code",
      "source": [
        "class Human:\n",
        "  def __init__(self, n,o,g):\n",
        "      self.name = n\n",
        "      self.occupation = o\n",
        "      self.gender = g\n",
        "  \n",
        "  def speaks(self):\n",
        "    if self.gender ==\"Female\":\n",
        "      print(self.name, \"is a girl\")\n",
        "    elif self.gender == \"Male\":\n",
        "      print(self.name, \"is a boy\")\n",
        "    else:\n",
        "      print(self.name, \"is a human being\")\n",
        "  \n",
        "  def works(self):\n",
        "    if self.occupation == \"Tennis player\":\n",
        "      print(self.name, \"is a tennis player\")\n",
        "    if self.occupation== \"actor\":\n",
        "      print(self.name, \"shoots films\")\n",
        "\n",
        "  def enjoys(self):\n",
        "    if self.occupation == \"Tennis player\":\n",
        "      print(self.name, \"hobby is playing piano\")\n",
        "    if self.occupation == \"actor\":\n",
        "      print(self.name, \"hobby is singinig\")\n",
        "  "
      ],
      "metadata": {
        "id": "A4E_-SGnkpny"
      },
      "execution_count": 7,
      "outputs": []
    },
    {
      "cell_type": "code",
      "source": [
        "tom = Human(\"Tom Curise\", \"actor\", \"Male\")\n",
        "tom.speaks()\n",
        "tom.works()\n",
        "tom.enjoys()"
      ],
      "metadata": {
        "colab": {
          "base_uri": "https://localhost:8080/"
        },
        "id": "1DuQFFzNAOSH",
        "outputId": "5d8656d4-2330-4116-998b-9b87988b4c46"
      },
      "execution_count": 9,
      "outputs": [
        {
          "output_type": "stream",
          "name": "stdout",
          "text": [
            "Tom Curise is a boy\n",
            "Tom Curise shoots films\n",
            "Tom Curise hobby is singinig\n"
          ]
        }
      ]
    },
    {
      "cell_type": "markdown",
      "source": [
        "inheritance"
      ],
      "metadata": {
        "id": "yTJ6vQ6uMumN"
      }
    },
    {
      "cell_type": "code",
      "source": [
        "class Vehicle:\n",
        "  def general_usage(self):\n",
        "    print(\"The general usage is transportation\")\n",
        "\n",
        "class car(Vehicle):\n",
        "  def __init__(self):\n",
        "      print(\"I am a car\")\n",
        "      self.wheels = 4\n",
        "      self.roof = True\n",
        "  def use_for(self):\n",
        "      self.general_usage()\n",
        "      print(\"this is used for common works\")\n",
        "    \n",
        "class motorcycle(Vehicle):\n",
        "  def __init__(self):\n",
        "        print(\"I am a motorcycle\")\n",
        "        self.wheels = 2\n",
        "        self.roof = False\n",
        "  def use_for(self):\n",
        "        self.general_usage()\n",
        "        print(\"this is used for racing\")\n"
      ],
      "metadata": {
        "id": "QW3sbVds_zTS"
      },
      "execution_count": 9,
      "outputs": []
    },
    {
      "cell_type": "code",
      "source": [
        "c=car()\n",
        "c.use_for()\n"
      ],
      "metadata": {
        "colab": {
          "base_uri": "https://localhost:8080/"
        },
        "id": "WcXLOiYROBoR",
        "outputId": "fde5e5b9-7c4c-4f53-94eb-06dea4466ce7"
      },
      "execution_count": 10,
      "outputs": [
        {
          "output_type": "stream",
          "name": "stdout",
          "text": [
            "I am a car\n",
            "The general usage is transportation\n",
            "this is used for common works\n"
          ]
        }
      ]
    },
    {
      "cell_type": "code",
      "source": [
        "print(issubclass(car,motorcycle))"
      ],
      "metadata": {
        "colab": {
          "base_uri": "https://localhost:8080/"
        },
        "id": "qkw2BIycOk9r",
        "outputId": "6a11d44d-3818-432b-cc06-f678c2ba169d"
      },
      "execution_count": 14,
      "outputs": [
        {
          "output_type": "stream",
          "name": "stdout",
          "text": [
            "False\n"
          ]
        }
      ]
    },
    {
      "cell_type": "code",
      "source": [
        ""
      ],
      "metadata": {
        "id": "BR7gLdnIP6Rh"
      },
      "execution_count": null,
      "outputs": []
    }
  ]
}
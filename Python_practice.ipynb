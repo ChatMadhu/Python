{
  "nbformat": 4,
  "nbformat_minor": 0,
  "metadata": {
    "colab": {
      "name": "Python practice.ipynb",
      "provenance": [],
      "collapsed_sections": [],
      "include_colab_link": true
    },
    "kernelspec": {
      "name": "python3",
      "display_name": "Python 3"
    },
    "language_info": {
      "name": "python"
    }
  },
  "cells": [
    {
      "cell_type": "markdown",
      "metadata": {
        "id": "view-in-github",
        "colab_type": "text"
      },
      "source": [
        "<a href=\"https://colab.research.google.com/github/ChatMadhu/Python/blob/main/Python_practice.ipynb\" target=\"_parent\"><img src=\"https://colab.research.google.com/assets/colab-badge.svg\" alt=\"Open In Colab\"/></a>"
      ]
    },
    {
      "cell_type": "markdown",
      "source": [
        "#Python -1"
      ],
      "metadata": {
        "id": "O6-dIKs448fx"
      }
    },
    {
      "cell_type": "markdown",
      "source": [
        "If condition"
      ],
      "metadata": {
        "id": "yRcDE_zqdqYy"
      }
    },
    {
      "cell_type": "code",
      "source": [
        "is_cold = True\n",
        "is_=hot = False\n",
        "\n",
        "if is_cold:\n",
        "  print(\"Wear warm cloths\")\n",
        "elif is_hot:\n",
        "  print(\"drink plenty of water\")\n",
        "else:\n",
        "  print(\"It's lovely day\")"
      ],
      "metadata": {
        "id": "zWuk2ktJWn1e",
        "colab": {
          "base_uri": "https://localhost:8080/"
        },
        "outputId": "c2117a31-d3b4-42c7-9468-67e8b19cb850"
      },
      "execution_count": null,
      "outputs": [
        {
          "output_type": "stream",
          "name": "stdout",
          "text": [
            "Wear warm cloths\n"
          ]
        }
      ]
    },
    {
      "cell_type": "code",
      "source": [
        "price = 1000000\n",
        "buyer_has_good_credit = True\n",
        "\n",
        "if buyer_has_good_credit:\n",
        "  put_down= price*0.1\n",
        "else:\n",
        "  put_down = price*0.2\n",
        "down = f'Down payment is: {put_down}$'\n",
        "print(down)"
      ],
      "metadata": {
        "colab": {
          "base_uri": "https://localhost:8080/"
        },
        "id": "-nxZo2O7hAhb",
        "outputId": "92feed60-e0d7-487c-fe05-c370b0335d7a"
      },
      "execution_count": null,
      "outputs": [
        {
          "output_type": "stream",
          "name": "stdout",
          "text": [
            "Down payment is: 100000.0$\n"
          ]
        }
      ]
    },
    {
      "cell_type": "code",
      "source": [
        "num=input(\"Enter a number\")\n",
        "num= int(num)"
      ],
      "metadata": {
        "colab": {
          "base_uri": "https://localhost:8080/"
        },
        "id": "HvOCbs8winwa",
        "outputId": "1041dd4c-7fc8-42d0-a2ce-12757b54ee1e"
      },
      "execution_count": null,
      "outputs": [
        {
          "name": "stdout",
          "output_type": "stream",
          "text": [
            "Enter a number4\n"
          ]
        }
      ]
    },
    {
      "cell_type": "code",
      "source": [
        "num=input(\"Enter a number: \")\n",
        "num= int(num)\n",
        "if num%2==0:\n",
        "  print(\"number is even\")\n",
        "else:\n",
        "  print(\"number is odd\")"
      ],
      "metadata": {
        "colab": {
          "base_uri": "https://localhost:8080/"
        },
        "id": "wR1jk-4ykRbJ",
        "outputId": "0c9b4605-d2e8-4982-95d5-e783b943449b"
      },
      "execution_count": null,
      "outputs": [
        {
          "output_type": "stream",
          "name": "stdout",
          "text": [
            "Enter a number: 6\n",
            "number is even\n"
          ]
        }
      ]
    },
    {
      "cell_type": "markdown",
      "source": [
        "classes"
      ],
      "metadata": {
        "id": "wNDeP4My9B8J"
      }
    },
    {
      "cell_type": "code",
      "source": [
        "class Human:\n",
        "  def __init__(self, n,o,g):\n",
        "      self.name = n\n",
        "      self.occupation = o\n",
        "      self.gender = g\n",
        "  \n",
        "  def speaks(self):\n",
        "    if self.gender ==\"Female\":\n",
        "      print(self.name, \"is a girl\")\n",
        "    elif self.gender == \"Male\":\n",
        "      print(self.name, \"is a boy\")\n",
        "    else:\n",
        "      print(self.name, \"is a human being\")\n",
        "  \n",
        "  def works(self):\n",
        "    if self.occupation == \"Tennis player\":\n",
        "      print(self.name, \"is a tennis player\")\n",
        "    if self.occupation== \"actor\":\n",
        "      print(self.name, \"shoots films\")\n",
        "\n",
        "  def enjoys(self):\n",
        "    if self.occupation == \"Tennis player\":\n",
        "      print(self.name, \"hobby is playing piano\")\n",
        "    if self.occupation == \"actor\":\n",
        "      print(self.name, \"hobby is singinig\")\n",
        "  "
      ],
      "metadata": {
        "id": "A4E_-SGnkpny"
      },
      "execution_count": null,
      "outputs": []
    },
    {
      "cell_type": "code",
      "source": [
        "tom = Human(\"Tom Curise\", \"actor\", \"Male\")\n",
        "tom.speaks()\n",
        "tom.works()\n",
        "tom.enjoys()"
      ],
      "metadata": {
        "colab": {
          "base_uri": "https://localhost:8080/"
        },
        "id": "1DuQFFzNAOSH",
        "outputId": "5d8656d4-2330-4116-998b-9b87988b4c46"
      },
      "execution_count": null,
      "outputs": [
        {
          "output_type": "stream",
          "name": "stdout",
          "text": [
            "Tom Curise is a boy\n",
            "Tom Curise shoots films\n",
            "Tom Curise hobby is singinig\n"
          ]
        }
      ]
    },
    {
      "cell_type": "markdown",
      "source": [
        "inheritance"
      ],
      "metadata": {
        "id": "yTJ6vQ6uMumN"
      }
    },
    {
      "cell_type": "code",
      "source": [
        "class Vehicle:\n",
        "  def general_usage(self):\n",
        "    print(\"The general usage is transportation\")\n",
        "\n",
        "class car(Vehicle):\n",
        "  def __init__(self):\n",
        "      print(\"I am a car\")\n",
        "      self.wheels = 4\n",
        "      self.roof = True\n",
        "  def use_for(self):\n",
        "      self.general_usage()\n",
        "      print(\"this is used for common works\")\n",
        "    \n",
        "class motorcycle(Vehicle):\n",
        "  def __init__(self):\n",
        "        print(\"I am a motorcycle\")\n",
        "        self.wheels = 2\n",
        "        self.roof = False\n",
        "  def use_for(self):\n",
        "        self.general_usage()\n",
        "        print(\"this is used for racing\")\n"
      ],
      "metadata": {
        "id": "QW3sbVds_zTS"
      },
      "execution_count": null,
      "outputs": []
    },
    {
      "cell_type": "code",
      "source": [
        "c=car()\n",
        "c.use_for()\n"
      ],
      "metadata": {
        "colab": {
          "base_uri": "https://localhost:8080/"
        },
        "id": "WcXLOiYROBoR",
        "outputId": "fde5e5b9-7c4c-4f53-94eb-06dea4466ce7"
      },
      "execution_count": null,
      "outputs": [
        {
          "output_type": "stream",
          "name": "stdout",
          "text": [
            "I am a car\n",
            "The general usage is transportation\n",
            "this is used for common works\n"
          ]
        }
      ]
    },
    {
      "cell_type": "code",
      "source": [
        "print(issubclass(car,motorcycle))"
      ],
      "metadata": {
        "colab": {
          "base_uri": "https://localhost:8080/"
        },
        "id": "qkw2BIycOk9r",
        "outputId": "6a11d44d-3818-432b-cc06-f678c2ba169d"
      },
      "execution_count": null,
      "outputs": [
        {
          "output_type": "stream",
          "name": "stdout",
          "text": [
            "False\n"
          ]
        }
      ]
    },
    {
      "cell_type": "markdown",
      "source": [
        "multiple inheritance"
      ],
      "metadata": {
        "id": "9sVOdO5kRZ08"
      }
    },
    {
      "cell_type": "code",
      "source": [
        "class Father():\n",
        "  def gardening(self):\n",
        "    print(\"I enjoy gardening\")\n",
        "\n",
        "class Mother():\n",
        "  def cooking(self):\n",
        "    print(\"I enjoy cooking\")\n",
        "\n",
        "class Child(Father,Mother):\n",
        "  def sporting(self):\n",
        "    print(\"I enjoy sporting\")\n",
        "\n",
        "c=Child()\n",
        "c.gardening()\n",
        "c.cooking()\n",
        "c.sporting()"
      ],
      "metadata": {
        "colab": {
          "base_uri": "https://localhost:8080/"
        },
        "id": "BR7gLdnIP6Rh",
        "outputId": "e45bdee7-6b50-4fd1-fcaf-f8a107aeb78f"
      },
      "execution_count": null,
      "outputs": [
        {
          "output_type": "stream",
          "name": "stdout",
          "text": [
            "I enjoy gardening\n",
            "I enjoy cooking\n",
            "I enjoy sporting\n"
          ]
        }
      ]
    },
    {
      "cell_type": "markdown",
      "source": [
        "base class method"
      ],
      "metadata": {
        "id": "xbLwRGOsS0fs"
      }
    },
    {
      "cell_type": "code",
      "source": [
        "class Father():\n",
        "  def skills(self):\n",
        "    print(\"I enjoy gardening and programming\")\n",
        "\n",
        "class Mother():\n",
        "  def skills(self):\n",
        "    print(\"I can cooking and sawing\")\n",
        "\n",
        "class Child(Father, Mother):\n",
        "  def skills(self):\n",
        "    Father.skills(self)\n",
        "    Mother.skills(self)\n",
        "    print(\"I enjoy cricket and singing\")\n",
        "\n",
        "c=Child()\n",
        "c.skills()"
      ],
      "metadata": {
        "colab": {
          "base_uri": "https://localhost:8080/"
        },
        "id": "TNyc9pxASLUQ",
        "outputId": "645cc545-0e1c-4243-b7e2-8d75c9c5a0d0"
      },
      "execution_count": null,
      "outputs": [
        {
          "output_type": "stream",
          "name": "stdout",
          "text": [
            "I enjoy gardening and programming\n",
            "I can cooking and sawing\n",
            "I enjoy cricket and singing\n"
          ]
        }
      ]
    },
    {
      "cell_type": "code",
      "source": [],
      "metadata": {
        "id": "Ee0pL3jsTmrq"
      },
      "execution_count": null,
      "outputs": []
    },
    {
      "cell_type": "markdown",
      "source": [
        "#Python Tutorial for Beginners - Full Course in 11 Hours [2020]"
      ],
      "metadata": {
        "id": "Elgfie-t5IRO"
      }
    },
    {
      "cell_type": "code",
      "source": [
        "!pip3 install ColabTurtle"
      ],
      "metadata": {
        "colab": {
          "base_uri": "https://localhost:8080/"
        },
        "id": "x_lQldEiE4DD",
        "outputId": "6d951f33-eade-421c-e3cd-33d281fde32a"
      },
      "execution_count": null,
      "outputs": [
        {
          "output_type": "stream",
          "name": "stdout",
          "text": [
            "Looking in indexes: https://pypi.org/simple, https://us-python.pkg.dev/colab-wheels/public/simple/\n",
            "Collecting ColabTurtle\n",
            "  Downloading ColabTurtle-2.1.0.tar.gz (6.8 kB)\n",
            "Building wheels for collected packages: ColabTurtle\n",
            "  Building wheel for ColabTurtle (setup.py) ... \u001b[?25l\u001b[?25hdone\n",
            "  Created wheel for ColabTurtle: filename=ColabTurtle-2.1.0-py3-none-any.whl size=7657 sha256=815126edd22d6bdd0dd3d25bb8aa18381b48094a260ae67f49dda68b9f8c6b28\n",
            "  Stored in directory: /root/.cache/pip/wheels/0d/ab/65/cc4478508751448dfb4ecb20a6533082855c227dfce8c13902\n",
            "Successfully built ColabTurtle\n",
            "Installing collected packages: ColabTurtle\n",
            "Successfully installed ColabTurtle-2.1.0\n"
          ]
        }
      ]
    },
    {
      "cell_type": "code",
      "source": [
        "import ColabTurtle as quazi_turtle\n"
      ],
      "metadata": {
        "id": "9oYiVR7V5Vhx"
      },
      "execution_count": null,
      "outputs": []
    },
    {
      "cell_type": "code",
      "source": [
        "quazi_turtle.forward(100)"
      ],
      "metadata": {
        "colab": {
          "base_uri": "https://localhost:8080/",
          "height": 165
        },
        "id": "GSO8v3KuCiBD",
        "outputId": "9207b232-5acd-4ec9-dfdf-243a2d0502ed"
      },
      "execution_count": null,
      "outputs": [
        {
          "output_type": "error",
          "ename": "AttributeError",
          "evalue": "ignored",
          "traceback": [
            "\u001b[0;31m---------------------------------------------------------------------------\u001b[0m",
            "\u001b[0;31mAttributeError\u001b[0m                            Traceback (most recent call last)",
            "\u001b[0;32m<ipython-input-14-1d12ca88235a>\u001b[0m in \u001b[0;36m<module>\u001b[0;34m\u001b[0m\n\u001b[0;32m----> 1\u001b[0;31m \u001b[0mquazi_turtle\u001b[0m\u001b[0;34m.\u001b[0m\u001b[0mforward\u001b[0m\u001b[0;34m(\u001b[0m\u001b[0;36m100\u001b[0m\u001b[0;34m)\u001b[0m\u001b[0;34m\u001b[0m\u001b[0;34m\u001b[0m\u001b[0m\n\u001b[0m",
            "\u001b[0;31mAttributeError\u001b[0m: module 'ColabTurtle' has no attribute 'forward'"
          ]
        }
      ]
    },
    {
      "cell_type": "code",
      "source": [
        "import calendar"
      ],
      "metadata": {
        "id": "uoQtzTe0AGeD"
      },
      "execution_count": null,
      "outputs": []
    },
    {
      "cell_type": "code",
      "source": [
        "print(calendar.weekheader(4))"
      ],
      "metadata": {
        "colab": {
          "base_uri": "https://localhost:8080/"
        },
        "id": "pNQx8xoYTFc4",
        "outputId": "d6d5a365-c30e-40ac-c2a6-646816ad2849"
      },
      "execution_count": null,
      "outputs": [
        {
          "output_type": "stream",
          "name": "stdout",
          "text": [
            "Mon  Tue  Wed  Thu  Fri  Sat  Sun \n"
          ]
        }
      ]
    },
    {
      "cell_type": "code",
      "source": [
        "print(calendar.month(2022,9,3))"
      ],
      "metadata": {
        "colab": {
          "base_uri": "https://localhost:8080/"
        },
        "id": "XmbnhaDfTSuO",
        "outputId": "49572705-c6e0-480f-bee7-4ae5d2915627"
      },
      "execution_count": null,
      "outputs": [
        {
          "output_type": "stream",
          "name": "stdout",
          "text": [
            "       September 2022\n",
            "Mon Tue Wed Thu Fri Sat Sun\n",
            "              1   2   3   4\n",
            "  5   6   7   8   9  10  11\n",
            " 12  13  14  15  16  17  18\n",
            " 19  20  21  22  23  24  25\n",
            " 26  27  28  29  30\n",
            "\n"
          ]
        }
      ]
    },
    {
      "cell_type": "code",
      "source": [
        "print(calendar.calendar(2022,3))"
      ],
      "metadata": {
        "colab": {
          "base_uri": "https://localhost:8080/"
        },
        "id": "OPmgoHtjT6g-",
        "outputId": "ad2de9b7-25c9-4582-f2f1-d2cb572a2fca"
      },
      "execution_count": null,
      "outputs": [
        {
          "output_type": "stream",
          "name": "stdout",
          "text": [
            "                                             2022\n",
            "\n",
            "          January                          February                          March\n",
            "Mon Tue Wed Thu Fri Sat Sun      Mon Tue Wed Thu Fri Sat Sun      Mon Tue Wed Thu Fri Sat Sun\n",
            "                      1   2            1   2   3   4   5   6            1   2   3   4   5   6\n",
            "  3   4   5   6   7   8   9        7   8   9  10  11  12  13        7   8   9  10  11  12  13\n",
            " 10  11  12  13  14  15  16       14  15  16  17  18  19  20       14  15  16  17  18  19  20\n",
            " 17  18  19  20  21  22  23       21  22  23  24  25  26  27       21  22  23  24  25  26  27\n",
            " 24  25  26  27  28  29  30       28                               28  29  30  31\n",
            " 31\n",
            "\n",
            "           April                             May                              June\n",
            "Mon Tue Wed Thu Fri Sat Sun      Mon Tue Wed Thu Fri Sat Sun      Mon Tue Wed Thu Fri Sat Sun\n",
            "                  1   2   3                                1                1   2   3   4   5\n",
            "  4   5   6   7   8   9  10        2   3   4   5   6   7   8        6   7   8   9  10  11  12\n",
            " 11  12  13  14  15  16  17        9  10  11  12  13  14  15       13  14  15  16  17  18  19\n",
            " 18  19  20  21  22  23  24       16  17  18  19  20  21  22       20  21  22  23  24  25  26\n",
            " 25  26  27  28  29  30           23  24  25  26  27  28  29       27  28  29  30\n",
            "                                  30  31\n",
            "\n",
            "            July                            August                         September\n",
            "Mon Tue Wed Thu Fri Sat Sun      Mon Tue Wed Thu Fri Sat Sun      Mon Tue Wed Thu Fri Sat Sun\n",
            "                  1   2   3        1   2   3   4   5   6   7                    1   2   3   4\n",
            "  4   5   6   7   8   9  10        8   9  10  11  12  13  14        5   6   7   8   9  10  11\n",
            " 11  12  13  14  15  16  17       15  16  17  18  19  20  21       12  13  14  15  16  17  18\n",
            " 18  19  20  21  22  23  24       22  23  24  25  26  27  28       19  20  21  22  23  24  25\n",
            " 25  26  27  28  29  30  31       29  30  31                       26  27  28  29  30\n",
            "\n",
            "          October                          November                         December\n",
            "Mon Tue Wed Thu Fri Sat Sun      Mon Tue Wed Thu Fri Sat Sun      Mon Tue Wed Thu Fri Sat Sun\n",
            "                      1   2            1   2   3   4   5   6                    1   2   3   4\n",
            "  3   4   5   6   7   8   9        7   8   9  10  11  12  13        5   6   7   8   9  10  11\n",
            " 10  11  12  13  14  15  16       14  15  16  17  18  19  20       12  13  14  15  16  17  18\n",
            " 17  18  19  20  21  22  23       21  22  23  24  25  26  27       19  20  21  22  23  24  25\n",
            " 24  25  26  27  28  29  30       28  29  30                       26  27  28  29  30  31\n",
            " 31\n",
            "\n"
          ]
        }
      ]
    },
    {
      "cell_type": "markdown",
      "source": [
        "strings in python"
      ],
      "metadata": {
        "id": "PFrcDMRBN2Ub"
      }
    },
    {
      "cell_type": "code",
      "source": [
        "s = \"Hellow maam :)\"\n",
        "print(s[7])"
      ],
      "metadata": {
        "id": "W4hX6EFGVN7o",
        "colab": {
          "base_uri": "https://localhost:8080/"
        },
        "outputId": "6ffa4402-ebbb-468e-f04e-23c18ee5a4c9"
      },
      "execution_count": 11,
      "outputs": [
        {
          "output_type": "stream",
          "name": "stdout",
          "text": [
            "m\n"
          ]
        }
      ]
    },
    {
      "cell_type": "markdown",
      "source": [
        "lists in python"
      ],
      "metadata": {
        "id": "BjgkrssWOAS2"
      }
    },
    {
      "cell_type": "code",
      "source": [
        "l= [1,3,5,6,4,56,3,4,4]\n",
        "print(l)"
      ],
      "metadata": {
        "colab": {
          "base_uri": "https://localhost:8080/"
        },
        "id": "2NPRReUON9ws",
        "outputId": "a9e5b4e9-3572-4626-8b92-f2c025aaa701"
      },
      "execution_count": 12,
      "outputs": [
        {
          "output_type": "stream",
          "name": "stdout",
          "text": [
            "[1, 3, 5, 6, 4, 56, 3, 4, 4]\n"
          ]
        }
      ]
    },
    {
      "cell_type": "code",
      "source": [
        "y = ['hd', 34, 'hwbed','jywd', True, 'db', [1,3,'ef',45,5]]\n",
        "print(y)"
      ],
      "metadata": {
        "colab": {
          "base_uri": "https://localhost:8080/"
        },
        "id": "SfH0c_KVOCo2",
        "outputId": "5f958d5d-aaa3-4068-cf39-a94a0714260a"
      },
      "execution_count": 13,
      "outputs": [
        {
          "output_type": "stream",
          "name": "stdout",
          "text": [
            "['hd', 34, 'hwbed', 'jywd', True, 'db', [1, 3, 'ef', 45, 5]]\n"
          ]
        }
      ]
    },
    {
      "cell_type": "markdown",
      "source": [
        "indexing the list"
      ],
      "metadata": {
        "id": "0zHz8LdFOM16"
      }
    },
    {
      "cell_type": "code",
      "source": [
        "print(y[0])\n",
        "print(y[4])\n",
        "print(y[5])\n",
        "print(y[6])"
      ],
      "metadata": {
        "colab": {
          "base_uri": "https://localhost:8080/"
        },
        "id": "6OQfzZWVOPoC",
        "outputId": "6e782933-dcc9-404e-dd1c-5c3701dfafed"
      },
      "execution_count": 14,
      "outputs": [
        {
          "output_type": "stream",
          "name": "stdout",
          "text": [
            "hd\n",
            "True\n",
            "db\n",
            "[1, 3, 'ef', 45, 5]\n"
          ]
        }
      ]
    },
    {
      "cell_type": "code",
      "source": [
        "#list of names\n",
        "names = [\"Joe\", \"John\", \"James\"]\n",
        "print(names)\n",
        "\n",
        "#add one name to the end\n",
        "names.append(\"Gerry\")\n",
        "print(names)\n",
        "\n",
        "#add one name to specific place\n",
        "names.insert(0,\"Pat\")\n",
        "print(names)\n",
        "\n",
        "#remove one specific name\n",
        "names.remove(\"John\")\n",
        "print(names)\n",
        "\n",
        "#sort the list accending order\n",
        "numbers = [23,5,2,7,5,734,6]\n",
        "numbers.sort()\n",
        "print(numbers)\n",
        "#decebnidng order\n",
        "numbers.reverse()\n",
        "print(numbers)"
      ],
      "metadata": {
        "colab": {
          "base_uri": "https://localhost:8080/"
        },
        "id": "GT_q6-qUOTAs",
        "outputId": "b7b40ac9-a8f4-4e4c-d93a-a00442263262"
      },
      "execution_count": 15,
      "outputs": [
        {
          "output_type": "stream",
          "name": "stdout",
          "text": [
            "['Joe', 'John', 'James']\n",
            "['Joe', 'John', 'James', 'Gerry']\n",
            "['Pat', 'Joe', 'John', 'James', 'Gerry']\n",
            "['Pat', 'Joe', 'James', 'Gerry']\n",
            "[2, 5, 5, 6, 7, 23, 734]\n",
            "[734, 23, 7, 6, 5, 5, 2]\n"
          ]
        }
      ]
    },
    {
      "cell_type": "code",
      "source": [
        "#iterating over list\n",
        "for number in numbers:\n",
        "  print(number)"
      ],
      "metadata": {
        "id": "kSBVAs-VPVs-",
        "outputId": "1e122aad-0b2a-4a13-dfb1-4782f9172c7d",
        "colab": {
          "base_uri": "https://localhost:8080/"
        }
      },
      "execution_count": 16,
      "outputs": [
        {
          "output_type": "stream",
          "name": "stdout",
          "text": [
            "734\n",
            "23\n",
            "7\n",
            "6\n",
            "5\n",
            "5\n",
            "2\n"
          ]
        }
      ]
    },
    {
      "cell_type": "markdown",
      "source": [
        "Indexing, slicing, striding"
      ],
      "metadata": {
        "id": "jufL1ZxgO5j2"
      }
    },
    {
      "cell_type": "code",
      "source": [
        "digits = [0,1,2,3,4,5,6,7,8,9]\n",
        "\n",
        "print(digits[0])\n",
        "print(digits[1])\n",
        "print(digits[-1])\n",
        "print(digits[:3])\n",
        "print(digits[3:])\n",
        "print(digits[0:4])\n",
        "print(digits[0:10:2])\n",
        "print(digits[::])\n",
        "print(digits[::4])\n",
        "print(digits[::3])\n",
        "print(digits[::2])\n",
        "print(digits[::-4])\n",
        "print(digits[1:6:2])"
      ],
      "metadata": {
        "id": "i3zgIDoOO8ve",
        "outputId": "fd41277c-c4a4-43b6-8728-400ad030c86e",
        "colab": {
          "base_uri": "https://localhost:8080/"
        }
      },
      "execution_count": 31,
      "outputs": [
        {
          "output_type": "stream",
          "name": "stdout",
          "text": [
            "0\n",
            "1\n",
            "9\n",
            "[0, 1, 2]\n",
            "[3, 4, 5, 6, 7, 8, 9]\n",
            "[0, 1, 2, 3]\n",
            "[0, 2, 4, 6, 8]\n",
            "[0, 1, 2, 3, 4, 5, 6, 7, 8, 9]\n",
            "[0, 4, 8]\n",
            "[0, 3, 6, 9]\n",
            "[0, 2, 4, 6, 8]\n",
            "[9, 5, 1]\n",
            "[1, 3, 5]\n"
          ]
        }
      ]
    },
    {
      "cell_type": "code",
      "source": [
        "for i in range(len(digits)):\n",
        "  print(digits[0:i])"
      ],
      "metadata": {
        "id": "jZ0kSi8EcMwP",
        "outputId": "9f2309fb-a5d1-436e-b7ff-224555972221",
        "colab": {
          "base_uri": "https://localhost:8080/"
        }
      },
      "execution_count": 32,
      "outputs": [
        {
          "output_type": "stream",
          "name": "stdout",
          "text": [
            "[]\n",
            "[0]\n",
            "[0, 1]\n",
            "[0, 1, 2]\n",
            "[0, 1, 2, 3]\n",
            "[0, 1, 2, 3, 4]\n",
            "[0, 1, 2, 3, 4, 5]\n",
            "[0, 1, 2, 3, 4, 5, 6]\n",
            "[0, 1, 2, 3, 4, 5, 6, 7]\n",
            "[0, 1, 2, 3, 4, 5, 6, 7, 8]\n"
          ]
        }
      ]
    },
    {
      "cell_type": "code",
      "source": [
        "for i in range(len(digits)):\n",
        "  print(digits[i:i+3])"
      ],
      "metadata": {
        "id": "IP6bu0Q2hQI8",
        "outputId": "37a72d2f-4cb6-4718-fa68-78865658d1db",
        "colab": {
          "base_uri": "https://localhost:8080/"
        }
      },
      "execution_count": 34,
      "outputs": [
        {
          "output_type": "stream",
          "name": "stdout",
          "text": [
            "[0, 1, 2]\n",
            "[1, 2, 3]\n",
            "[2, 3, 4]\n",
            "[3, 4, 5]\n",
            "[4, 5, 6]\n",
            "[5, 6, 7]\n",
            "[6, 7, 8]\n",
            "[7, 8, 9]\n",
            "[8, 9]\n",
            "[9]\n"
          ]
        }
      ]
    },
    {
      "cell_type": "code",
      "source": [],
      "metadata": {
        "id": "wADoFHMOiCJg"
      },
      "execution_count": null,
      "outputs": []
    }
  ]
}
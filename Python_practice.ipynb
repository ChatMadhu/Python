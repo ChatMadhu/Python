{
  "nbformat": 4,
  "nbformat_minor": 0,
  "metadata": {
    "colab": {
      "name": "Python practice.ipynb",
      "provenance": [],
      "collapsed_sections": [],
      "authorship_tag": "ABX9TyMDxWxmh3v13f7uvr8LUWwX",
      "include_colab_link": true
    },
    "kernelspec": {
      "name": "python3",
      "display_name": "Python 3"
    },
    "language_info": {
      "name": "python"
    }
  },
  "cells": [
    {
      "cell_type": "markdown",
      "metadata": {
        "id": "view-in-github",
        "colab_type": "text"
      },
      "source": [
        "<a href=\"https://colab.research.google.com/github/ChatMadhu/Python/blob/main/Python_practice.ipynb\" target=\"_parent\"><img src=\"https://colab.research.google.com/assets/colab-badge.svg\" alt=\"Open In Colab\"/></a>"
      ]
    },
    {
      "cell_type": "code",
      "execution_count": 1,
      "metadata": {
        "colab": {
          "base_uri": "https://localhost:8080/"
        },
        "id": "yjQU2PMp6eSi",
        "outputId": "b6b7089f-586c-447b-dca5-9260a5d05bc2"
      },
      "outputs": [
        {
          "output_type": "stream",
          "name": "stdout",
          "text": [
            "Chathuri\n"
          ]
        }
      ],
      "source": [
        "print (\"Chathuri\")"
      ]
    },
    {
      "cell_type": "code",
      "source": [
        "print('0_____ !')\n",
        "print(' !!  !!')"
      ],
      "metadata": {
        "colab": {
          "base_uri": "https://localhost:8080/"
        },
        "id": "I9-7gAod8sqi",
        "outputId": "674c3592-65e0-465d-8bad-6fec280b7982"
      },
      "execution_count": 4,
      "outputs": [
        {
          "output_type": "stream",
          "name": "stdout",
          "text": [
            "0_____ !\n",
            " !!  !!\n"
          ]
        }
      ]
    },
    {
      "cell_type": "code",
      "source": [
        "print('*' * 10)"
      ],
      "metadata": {
        "colab": {
          "base_uri": "https://localhost:8080/"
        },
        "id": "FSLt8ZBI9Oci",
        "outputId": "56fc7eaf-9c39-45c8-ec1a-ed06dd43c54c"
      },
      "execution_count": 5,
      "outputs": [
        {
          "output_type": "stream",
          "name": "stdout",
          "text": [
            "**********\n"
          ]
        }
      ]
    },
    {
      "cell_type": "code",
      "source": [
        "print('  *   * ')\n",
        "print(' *** ***')\n",
        "print('**********')\n",
        "print('  ******')"
      ],
      "metadata": {
        "colab": {
          "base_uri": "https://localhost:8080/"
        },
        "id": "L63UNHOh-Tab",
        "outputId": "e5444893-562e-4fd9-bbc5-56ed46880368"
      },
      "execution_count": 13,
      "outputs": [
        {
          "output_type": "stream",
          "name": "stdout",
          "text": [
            "  *   * \n",
            " *** ***\n",
            "**********\n",
            "  ******\n"
          ]
        }
      ]
    },
    {
      "cell_type": "code",
      "source": [
        "name = input('What is your name?')\n",
        "print('Hi ' + name)"
      ],
      "metadata": {
        "colab": {
          "base_uri": "https://localhost:8080/"
        },
        "id": "7WyATNUf-4Iq",
        "outputId": "77809b63-3296-47eb-9bf5-70917ba0638b"
      },
      "execution_count": 15,
      "outputs": [
        {
          "output_type": "stream",
          "name": "stdout",
          "text": [
            "What is your name?Chathuri\n",
            "Hi Chathuri\n"
          ]
        }
      ]
    },
    {
      "cell_type": "code",
      "source": [
        "name = input('What is your name')\n",
        "color = input('What is your favourite color?')\n",
        "print( name + ' likes ' + color)"
      ],
      "metadata": {
        "colab": {
          "base_uri": "https://localhost:8080/"
        },
        "id": "buDjn2_1Wwsx",
        "outputId": "37ffdebb-6c51-4b13-f92b-103530811c3b"
      },
      "execution_count": 17,
      "outputs": [
        {
          "output_type": "stream",
          "name": "stdout",
          "text": [
            "What is your nameChathuri\n",
            "What is your favourite color?Blue\n",
            "Chathuri likes Blue\n"
          ]
        }
      ]
    },
    {
      "cell_type": "code",
      "source": [
        "Birth_year =input('Birth Year: ')\n",
        "age = 2022 - int(Birth_year)\n",
        "print(age)"
      ],
      "metadata": {
        "colab": {
          "base_uri": "https://localhost:8080/"
        },
        "id": "I-oZhZ8aXNr_",
        "outputId": "51b0f1fb-665d-47c7-dbdb-0fcbaece27e5"
      },
      "execution_count": 20,
      "outputs": [
        {
          "output_type": "stream",
          "name": "stdout",
          "text": [
            "Birth Year: 1994\n",
            "28\n"
          ]
        }
      ]
    },
    {
      "cell_type": "code",
      "source": [
        "weight = input('What is your weight in Pounds ')\n",
        "weight_kg = float(weight) * 0.453592\n",
        "print( weight_kg)"
      ],
      "metadata": {
        "colab": {
          "base_uri": "https://localhost:8080/"
        },
        "id": "hV8KiFtfaYZA",
        "outputId": "977967aa-4b2a-4da9-a4b4-b83f3599c862"
      },
      "execution_count": 22,
      "outputs": [
        {
          "output_type": "stream",
          "name": "stdout",
          "text": [
            "What is your weight in Pounds 100\n",
            "45.3592\n"
          ]
        }
      ]
    },
    {
      "cell_type": "code",
      "source": [
        "course = 'Python for Beginners'\n",
        "print(course[-1])"
      ],
      "metadata": {
        "colab": {
          "base_uri": "https://localhost:8080/"
        },
        "id": "yBxe_Al5puTA",
        "outputId": "8d9799cf-3b86-466c-87e4-f7f689b56e60"
      },
      "execution_count": 2,
      "outputs": [
        {
          "output_type": "stream",
          "name": "stdout",
          "text": [
            "s\n"
          ]
        }
      ]
    },
    {
      "cell_type": "code",
      "source": [
        "name = 'Jeniffer'\n",
        "print(name[1:-1])"
      ],
      "metadata": {
        "colab": {
          "base_uri": "https://localhost:8080/"
        },
        "id": "YLJ1ljkhVd43",
        "outputId": "5fcc2b0d-d219-4afa-fb7c-309aecf9be92"
      },
      "execution_count": 3,
      "outputs": [
        {
          "output_type": "stream",
          "name": "stdout",
          "text": [
            "eniffe\n"
          ]
        }
      ]
    },
    {
      "cell_type": "code",
      "source": [
        "course = 'Python for Beginners'\n",
        "print(course.upper())"
      ],
      "metadata": {
        "colab": {
          "base_uri": "https://localhost:8080/"
        },
        "id": "h1-5NtKST38z",
        "outputId": "8e81d781-32b8-47b2-d08f-7c7f34221f9a"
      },
      "execution_count": 2,
      "outputs": [
        {
          "output_type": "stream",
          "name": "stdout",
          "text": [
            "PYTHON FOR BEGINNERS\n"
          ]
        }
      ]
    },
    {
      "cell_type": "code",
      "source": [
        "print(course)"
      ],
      "metadata": {
        "colab": {
          "base_uri": "https://localhost:8080/"
        },
        "id": "RBwCRCY5WHSc",
        "outputId": "db86c013-ae85-47de-9028-0661a94eab9d"
      },
      "execution_count": 3,
      "outputs": [
        {
          "output_type": "stream",
          "name": "stdout",
          "text": [
            "Python for Beginners\n"
          ]
        }
      ]
    },
    {
      "cell_type": "code",
      "source": [
        "print(course.lower())"
      ],
      "metadata": {
        "colab": {
          "base_uri": "https://localhost:8080/"
        },
        "id": "ZKdwjSmTWN37",
        "outputId": "15a022ff-89f5-44eb-e0a1-cb895ef09b18"
      },
      "execution_count": 4,
      "outputs": [
        {
          "output_type": "stream",
          "name": "stdout",
          "text": [
            "python for beginners\n"
          ]
        }
      ]
    },
    {
      "cell_type": "code",
      "source": [
        "print(course.replace('for', 'is for'))"
      ],
      "metadata": {
        "colab": {
          "base_uri": "https://localhost:8080/"
        },
        "id": "5nLGLI33WWv8",
        "outputId": "c21e68bd-028d-452b-a353-ba9ed0c3a252"
      },
      "execution_count": 6,
      "outputs": [
        {
          "output_type": "stream",
          "name": "stdout",
          "text": [
            "Python is for Beginners\n"
          ]
        }
      ]
    },
    {
      "cell_type": "code",
      "source": [
        ""
      ],
      "metadata": {
        "id": "zWuk2ktJWn1e"
      },
      "execution_count": null,
      "outputs": []
    }
  ]
}